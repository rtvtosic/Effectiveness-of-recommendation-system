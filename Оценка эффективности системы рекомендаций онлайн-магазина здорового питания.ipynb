{
 "cells": [
  {
   "cell_type": "markdown",
   "id": "8b5c62c8-2fc0-4b6f-a0eb-06aa13d74d96",
   "metadata": {},
   "source": [
    "<h1>Оценка эффективности системы рекомендаций онлайн-магазина здорового питания</h1>\n",
    "<p>У магазина есть приложение, внутри которого реализована рекомендательная система: она подсказывает пользователю, какие товары ему может быть интересно добавить в корзину. Раньше система была реализована довольно прямолинейно: пользователю предлагалось добавить те товары, которые он часто покупал в прошлом.</p>\n",
    "<p>Однако был разработан новый алгоритм, который теперь работает на основе ИИ и предлагает в том числе и те товары, которые раньше пользователь не покупал</p>\n",
    "<p>Вопрос: <b>действительно ли новый алгоритм работает лучше, чем существующий?</b></p>\n",
    "<p>Чтобы ответить на него, был проведен A/B-тест, в ходе которого контрольная группа пользователей продолжала пользоваться старой версией системы рекомендаций, а экспериментальная группа использовала новый алгоритм. <b>Период проведения A/B-теста — с 01.10.2023 по 14.10.2023 включительно</b>.</p>"
   ]
  },
  {
   "cell_type": "markdown",
   "id": "41bab5a5-c79b-48f0-b664-89f7f29c5f68",
   "metadata": {},
   "source": [
    "<h1>Данные</h1>\n",
    "<p>Таблица <b>user</b> (Общая информация о пользователях магазина)</p>\n",
    "<ul>\n",
    "    <li>id (int) - идентификатор</li>\n",
    "    <li>gender (str) - пол</li>\n",
    "    <li>age (int) - возраст на момент 01.09.2023</li>\n",
    "    <li>region (str) - регион, в котором проживает пользователь</li>\n",
    "</ul>\n",
    "<p></p>\n",
    "<p></p>\n",
    "<p>Таблица <b>user_ab_group</b> (Информация о том, в какую группу в рамках эксперимента входил тот или иной пользователь. В эксперименте участвовали не все пользователи)</p>\n",
    "<ul>\n",
    "    <li>user_id  (int) - идентификатор</li>\n",
    "    <li>group  (str) - - группа, в которую входит пользователь (control/treatment)\n",
    "</li>\n",
    "</ul>\n",
    "\n",
    "<p>Таблица <b>user_purchase</b> (Информация о покупках, которые совершали пользователи. Также в таблице содержаться данные о покупках тех же пользователей вне A/B-эксперимента)</p>\n",
    "<ul>\n",
    "    <li>id (int) - идентификатор покупки</li>\n",
    "    <li>user_id  (int) - идентификатор пользователя, который совершил покупку</li>\n",
    "    <li>date_time  (str) - момент времени, когда была совершена покупка. Формат: “%Y-%m-%d %H:%M:%S“</li>\n",
    "</ul>\n",
    "\n",
    "<p>Таблица <b>purchase_good</b> (Информация о товарах, которые входили в список покупок, совершенных пользователями. Каждому товару из конкретной покупки соответствует отдельная строчка в таблице)</p>\n",
    "<ul>\n",
    "    <li>purchase_id  (int) - идентификатор покупки</li>\n",
    "    <li>good_id (int) - идентификатор товара, который входит в эту покупку</li>\n",
    "    <li>amount (int) - кол-во единиц товара, входящих в покупку</li>\n",
    "    <li>was_in_recommended_goods (bool) - был ли приобретенный продукт добавлен в корзину по рекомендации</li>\n",
    "</ul>\n",
    "\n",
    "<p>Таблица <b>good</b> (Информация о товарах, которые продаются в магазине)</p>\n",
    "<ul>\n",
    "    <li>id  (int) - идентификатор покупки</li>\n",
    "    <li>good_name (string) - идентификатор товара, который входит в эту покупку</li>\n",
    "    <li>price_per_unit (int) - кол-во единиц товара, входящих в покупку</li>\n",
    "</ul>"
   ]
  },
  {
   "cell_type": "code",
   "execution_count": 1,
   "id": "c726f541-8256-448d-82ca-f8408e84e0c4",
   "metadata": {},
   "outputs": [],
   "source": [
    "# импорт библиотек\n",
    "import random\n",
    "import pandas as pd\n",
    "import seaborn as sns\n",
    "\n",
    "from scipy import stats\n",
    "from math import floor"
   ]
  },
  {
   "cell_type": "code",
   "execution_count": 2,
   "id": "74ca9a04-e2e5-4e1b-86a5-233645bbce13",
   "metadata": {},
   "outputs": [],
   "source": [
    "# чтение данных\n",
    "user = pd.read_csv(\"data/user.csv\")\n",
    "user_ab_group = pd.read_csv(\"data/user_ab_group.csv\")\n",
    "good = pd.read_csv(\"data/good.csv\")\n",
    "user_purchase = pd.read_csv(\"data/user_purchase.csv\")\n",
    "purchase_good = pd.read_csv(\"data/purchase_good.csv\")"
   ]
  },
  {
   "cell_type": "code",
   "execution_count": 3,
   "id": "d4f570ba-3ce7-4958-9407-d0007290f4ba",
   "metadata": {},
   "outputs": [
    {
     "data": {
      "text/html": [
       "<div>\n",
       "<style scoped>\n",
       "    .dataframe tbody tr th:only-of-type {\n",
       "        vertical-align: middle;\n",
       "    }\n",
       "\n",
       "    .dataframe tbody tr th {\n",
       "        vertical-align: top;\n",
       "    }\n",
       "\n",
       "    .dataframe thead th {\n",
       "        text-align: right;\n",
       "    }\n",
       "</style>\n",
       "<table border=\"1\" class=\"dataframe\">\n",
       "  <thead>\n",
       "    <tr style=\"text-align: right;\">\n",
       "      <th></th>\n",
       "      <th>user_id</th>\n",
       "      <th>gender</th>\n",
       "      <th>age</th>\n",
       "      <th>region</th>\n",
       "    </tr>\n",
       "  </thead>\n",
       "  <tbody>\n",
       "    <tr>\n",
       "      <th>0</th>\n",
       "      <td>1</td>\n",
       "      <td>Ж</td>\n",
       "      <td>23</td>\n",
       "      <td>Краснодарский край</td>\n",
       "    </tr>\n",
       "    <tr>\n",
       "      <th>1</th>\n",
       "      <td>2</td>\n",
       "      <td>Ж</td>\n",
       "      <td>43</td>\n",
       "      <td>Краснодарский край</td>\n",
       "    </tr>\n",
       "    <tr>\n",
       "      <th>2</th>\n",
       "      <td>3</td>\n",
       "      <td>М</td>\n",
       "      <td>36</td>\n",
       "      <td>Краснодарский край</td>\n",
       "    </tr>\n",
       "    <tr>\n",
       "      <th>3</th>\n",
       "      <td>4</td>\n",
       "      <td>Ж</td>\n",
       "      <td>39</td>\n",
       "      <td>Краснодарский край</td>\n",
       "    </tr>\n",
       "    <tr>\n",
       "      <th>4</th>\n",
       "      <td>5</td>\n",
       "      <td>М</td>\n",
       "      <td>43</td>\n",
       "      <td>Иркутская область</td>\n",
       "    </tr>\n",
       "  </tbody>\n",
       "</table>\n",
       "</div>"
      ],
      "text/plain": [
       "   user_id gender  age              region\n",
       "0        1      Ж   23  Краснодарский край\n",
       "1        2      Ж   43  Краснодарский край\n",
       "2        3      М   36  Краснодарский край\n",
       "3        4      Ж   39  Краснодарский край\n",
       "4        5      М   43   Иркутская область"
      ]
     },
     "execution_count": 3,
     "metadata": {},
     "output_type": "execute_result"
    }
   ],
   "source": [
    "user.head()"
   ]
  },
  {
   "cell_type": "code",
   "execution_count": 4,
   "id": "5c792a80-5981-40b7-92cf-5e45c055eb97",
   "metadata": {},
   "outputs": [
    {
     "data": {
      "text/html": [
       "<div>\n",
       "<style scoped>\n",
       "    .dataframe tbody tr th:only-of-type {\n",
       "        vertical-align: middle;\n",
       "    }\n",
       "\n",
       "    .dataframe tbody tr th {\n",
       "        vertical-align: top;\n",
       "    }\n",
       "\n",
       "    .dataframe thead th {\n",
       "        text-align: right;\n",
       "    }\n",
       "</style>\n",
       "<table border=\"1\" class=\"dataframe\">\n",
       "  <thead>\n",
       "    <tr style=\"text-align: right;\">\n",
       "      <th></th>\n",
       "      <th>user_id</th>\n",
       "      <th>group</th>\n",
       "    </tr>\n",
       "  </thead>\n",
       "  <tbody>\n",
       "    <tr>\n",
       "      <th>0</th>\n",
       "      <td>5034</td>\n",
       "      <td>treatment</td>\n",
       "    </tr>\n",
       "    <tr>\n",
       "      <th>1</th>\n",
       "      <td>4725</td>\n",
       "      <td>treatment</td>\n",
       "    </tr>\n",
       "    <tr>\n",
       "      <th>2</th>\n",
       "      <td>911</td>\n",
       "      <td>treatment</td>\n",
       "    </tr>\n",
       "    <tr>\n",
       "      <th>3</th>\n",
       "      <td>13267</td>\n",
       "      <td>control</td>\n",
       "    </tr>\n",
       "    <tr>\n",
       "      <th>4</th>\n",
       "      <td>5636</td>\n",
       "      <td>control</td>\n",
       "    </tr>\n",
       "  </tbody>\n",
       "</table>\n",
       "</div>"
      ],
      "text/plain": [
       "   user_id      group\n",
       "0     5034  treatment\n",
       "1     4725  treatment\n",
       "2      911  treatment\n",
       "3    13267    control\n",
       "4     5636    control"
      ]
     },
     "execution_count": 4,
     "metadata": {},
     "output_type": "execute_result"
    }
   ],
   "source": [
    "user_ab_group.head()"
   ]
  },
  {
   "cell_type": "code",
   "execution_count": 5,
   "id": "dde40549-2df0-49f9-a3b1-9553c4067905",
   "metadata": {},
   "outputs": [
    {
     "data": {
      "text/html": [
       "<div>\n",
       "<style scoped>\n",
       "    .dataframe tbody tr th:only-of-type {\n",
       "        vertical-align: middle;\n",
       "    }\n",
       "\n",
       "    .dataframe tbody tr th {\n",
       "        vertical-align: top;\n",
       "    }\n",
       "\n",
       "    .dataframe thead th {\n",
       "        text-align: right;\n",
       "    }\n",
       "</style>\n",
       "<table border=\"1\" class=\"dataframe\">\n",
       "  <thead>\n",
       "    <tr style=\"text-align: right;\">\n",
       "      <th></th>\n",
       "      <th>id</th>\n",
       "      <th>good_name</th>\n",
       "      <th>price_per_unit</th>\n",
       "    </tr>\n",
       "  </thead>\n",
       "  <tbody>\n",
       "    <tr>\n",
       "      <th>0</th>\n",
       "      <td>1</td>\n",
       "      <td>Органический авокадо</td>\n",
       "      <td>336</td>\n",
       "    </tr>\n",
       "    <tr>\n",
       "      <th>1</th>\n",
       "      <td>2</td>\n",
       "      <td>Льняные семена</td>\n",
       "      <td>796</td>\n",
       "    </tr>\n",
       "    <tr>\n",
       "      <th>2</th>\n",
       "      <td>3</td>\n",
       "      <td>Кокосовое масло Extra Virgin</td>\n",
       "      <td>558</td>\n",
       "    </tr>\n",
       "    <tr>\n",
       "      <th>3</th>\n",
       "      <td>4</td>\n",
       "      <td>Гречка цельнозерновая</td>\n",
       "      <td>484</td>\n",
       "    </tr>\n",
       "    <tr>\n",
       "      <th>4</th>\n",
       "      <td>5</td>\n",
       "      <td>Лосось дикого копчения</td>\n",
       "      <td>480</td>\n",
       "    </tr>\n",
       "  </tbody>\n",
       "</table>\n",
       "</div>"
      ],
      "text/plain": [
       "   id                     good_name  price_per_unit\n",
       "0   1          Органический авокадо             336\n",
       "1   2                Льняные семена             796\n",
       "2   3  Кокосовое масло Extra Virgin             558\n",
       "3   4         Гречка цельнозерновая             484\n",
       "4   5        Лосось дикого копчения             480"
      ]
     },
     "execution_count": 5,
     "metadata": {},
     "output_type": "execute_result"
    }
   ],
   "source": [
    "good.head()"
   ]
  },
  {
   "cell_type": "code",
   "execution_count": 6,
   "id": "051b66d0-2b12-48e4-95c2-fd8ba43e3b8f",
   "metadata": {},
   "outputs": [
    {
     "data": {
      "text/html": [
       "<div>\n",
       "<style scoped>\n",
       "    .dataframe tbody tr th:only-of-type {\n",
       "        vertical-align: middle;\n",
       "    }\n",
       "\n",
       "    .dataframe tbody tr th {\n",
       "        vertical-align: top;\n",
       "    }\n",
       "\n",
       "    .dataframe thead th {\n",
       "        text-align: right;\n",
       "    }\n",
       "</style>\n",
       "<table border=\"1\" class=\"dataframe\">\n",
       "  <thead>\n",
       "    <tr style=\"text-align: right;\">\n",
       "      <th></th>\n",
       "      <th>id</th>\n",
       "      <th>user_id</th>\n",
       "      <th>date_time</th>\n",
       "    </tr>\n",
       "  </thead>\n",
       "  <tbody>\n",
       "    <tr>\n",
       "      <th>0</th>\n",
       "      <td>1</td>\n",
       "      <td>5784</td>\n",
       "      <td>2023-09-20 00:01:07</td>\n",
       "    </tr>\n",
       "    <tr>\n",
       "      <th>1</th>\n",
       "      <td>2</td>\n",
       "      <td>4468</td>\n",
       "      <td>2023-09-20 00:04:18</td>\n",
       "    </tr>\n",
       "    <tr>\n",
       "      <th>2</th>\n",
       "      <td>3</td>\n",
       "      <td>3827</td>\n",
       "      <td>2023-09-20 00:04:35</td>\n",
       "    </tr>\n",
       "    <tr>\n",
       "      <th>3</th>\n",
       "      <td>4</td>\n",
       "      <td>3272</td>\n",
       "      <td>2023-09-20 00:06:32</td>\n",
       "    </tr>\n",
       "    <tr>\n",
       "      <th>4</th>\n",
       "      <td>5</td>\n",
       "      <td>9461</td>\n",
       "      <td>2023-09-20 00:08:24</td>\n",
       "    </tr>\n",
       "  </tbody>\n",
       "</table>\n",
       "</div>"
      ],
      "text/plain": [
       "   id  user_id            date_time\n",
       "0   1     5784  2023-09-20 00:01:07\n",
       "1   2     4468  2023-09-20 00:04:18\n",
       "2   3     3827  2023-09-20 00:04:35\n",
       "3   4     3272  2023-09-20 00:06:32\n",
       "4   5     9461  2023-09-20 00:08:24"
      ]
     },
     "execution_count": 6,
     "metadata": {},
     "output_type": "execute_result"
    }
   ],
   "source": [
    "user_purchase.head()"
   ]
  },
  {
   "cell_type": "code",
   "execution_count": 7,
   "id": "ad6b83ee-13cb-41dc-beb0-db8005e3a1f8",
   "metadata": {},
   "outputs": [
    {
     "data": {
      "text/html": [
       "<div>\n",
       "<style scoped>\n",
       "    .dataframe tbody tr th:only-of-type {\n",
       "        vertical-align: middle;\n",
       "    }\n",
       "\n",
       "    .dataframe tbody tr th {\n",
       "        vertical-align: top;\n",
       "    }\n",
       "\n",
       "    .dataframe thead th {\n",
       "        text-align: right;\n",
       "    }\n",
       "</style>\n",
       "<table border=\"1\" class=\"dataframe\">\n",
       "  <thead>\n",
       "    <tr style=\"text-align: right;\">\n",
       "      <th></th>\n",
       "      <th>purchase_id</th>\n",
       "      <th>good_id</th>\n",
       "      <th>amount</th>\n",
       "      <th>was_in_recommended_goods</th>\n",
       "    </tr>\n",
       "  </thead>\n",
       "  <tbody>\n",
       "    <tr>\n",
       "      <th>0</th>\n",
       "      <td>15495</td>\n",
       "      <td>34</td>\n",
       "      <td>2</td>\n",
       "      <td>False</td>\n",
       "    </tr>\n",
       "    <tr>\n",
       "      <th>1</th>\n",
       "      <td>42640</td>\n",
       "      <td>48</td>\n",
       "      <td>1</td>\n",
       "      <td>False</td>\n",
       "    </tr>\n",
       "    <tr>\n",
       "      <th>2</th>\n",
       "      <td>42640</td>\n",
       "      <td>36</td>\n",
       "      <td>1</td>\n",
       "      <td>False</td>\n",
       "    </tr>\n",
       "    <tr>\n",
       "      <th>3</th>\n",
       "      <td>42640</td>\n",
       "      <td>12</td>\n",
       "      <td>2</td>\n",
       "      <td>True</td>\n",
       "    </tr>\n",
       "    <tr>\n",
       "      <th>4</th>\n",
       "      <td>42640</td>\n",
       "      <td>35</td>\n",
       "      <td>1</td>\n",
       "      <td>True</td>\n",
       "    </tr>\n",
       "  </tbody>\n",
       "</table>\n",
       "</div>"
      ],
      "text/plain": [
       "   purchase_id  good_id  amount  was_in_recommended_goods\n",
       "0        15495       34       2                     False\n",
       "1        42640       48       1                     False\n",
       "2        42640       36       1                     False\n",
       "3        42640       12       2                      True\n",
       "4        42640       35       1                      True"
      ]
     },
     "execution_count": 7,
     "metadata": {},
     "output_type": "execute_result"
    }
   ],
   "source": [
    "purchase_good.head()"
   ]
  },
  {
   "cell_type": "markdown",
   "id": "4543ef52-2810-4754-b9f5-2d9e86a3263c",
   "metadata": {},
   "source": [
    "<h2>Обработка данных</h2>"
   ]
  },
  {
   "cell_type": "markdown",
   "id": "ce513418-0ba8-49c1-a4d8-7e79f9d2c2ae",
   "metadata": {},
   "source": [
    "<h4>Проверка типов данных</h4>"
   ]
  },
  {
   "cell_type": "code",
   "execution_count": 8,
   "id": "c5ebbc02-90aa-49f8-903a-9432a0c73ba1",
   "metadata": {},
   "outputs": [
    {
     "data": {
      "text/plain": [
       "user_id     int64\n",
       "gender     object\n",
       "age         int64\n",
       "region     object\n",
       "dtype: object"
      ]
     },
     "execution_count": 8,
     "metadata": {},
     "output_type": "execute_result"
    }
   ],
   "source": [
    "user.dtypes"
   ]
  },
  {
   "cell_type": "code",
   "execution_count": 9,
   "id": "7ea66fcc-9f76-4f9f-a6b5-20b46e8363b9",
   "metadata": {},
   "outputs": [
    {
     "data": {
      "text/plain": [
       "user_id     int64\n",
       "group      object\n",
       "dtype: object"
      ]
     },
     "execution_count": 9,
     "metadata": {},
     "output_type": "execute_result"
    }
   ],
   "source": [
    "user_ab_group.dtypes"
   ]
  },
  {
   "cell_type": "code",
   "execution_count": 10,
   "id": "ef9f6ab7-ca9d-498e-836d-8b61eaeaa2b0",
   "metadata": {},
   "outputs": [
    {
     "data": {
      "text/plain": [
       "id                 int64\n",
       "good_name         object\n",
       "price_per_unit     int64\n",
       "dtype: object"
      ]
     },
     "execution_count": 10,
     "metadata": {},
     "output_type": "execute_result"
    }
   ],
   "source": [
    "good.dtypes"
   ]
  },
  {
   "cell_type": "code",
   "execution_count": 11,
   "id": "1cde79a5-cfc2-4aef-9ed5-735fc27353f5",
   "metadata": {},
   "outputs": [
    {
     "data": {
      "text/plain": [
       "id            int64\n",
       "user_id       int64\n",
       "date_time    object\n",
       "dtype: object"
      ]
     },
     "execution_count": 11,
     "metadata": {},
     "output_type": "execute_result"
    }
   ],
   "source": [
    "user_purchase.dtypes"
   ]
  },
  {
   "cell_type": "code",
   "execution_count": 12,
   "id": "8d2cb929-8160-4e7f-98c6-9b98f21010d4",
   "metadata": {},
   "outputs": [],
   "source": [
    "user_purchase['date_time'] = pd.to_datetime(user_purchase['date_time'],\n",
    "                                           format='%Y-%m-%d %H:%M:%S')"
   ]
  },
  {
   "cell_type": "code",
   "execution_count": 13,
   "id": "bd03c2df-8430-40c5-b04b-9c805a77e501",
   "metadata": {},
   "outputs": [
    {
     "data": {
      "text/plain": [
       "id                    int64\n",
       "user_id               int64\n",
       "date_time    datetime64[ns]\n",
       "dtype: object"
      ]
     },
     "execution_count": 13,
     "metadata": {},
     "output_type": "execute_result"
    }
   ],
   "source": [
    "user_purchase.dtypes"
   ]
  },
  {
   "cell_type": "markdown",
   "id": "5480044a-6e63-4d94-9885-4009082fd3a9",
   "metadata": {},
   "source": [
    "<h4>Предварительный анализ</h4>"
   ]
  },
  {
   "cell_type": "markdown",
   "id": "5170a321-ad1f-42a7-a3b0-8cae374f404b",
   "metadata": {},
   "source": [
    "<h5>Таблица <b>user</b></h5>"
   ]
  },
  {
   "cell_type": "code",
   "execution_count": 14,
   "id": "558c3f06-ee6d-4511-8af6-b8651e4528b0",
   "metadata": {},
   "outputs": [
    {
     "data": {
      "text/html": [
       "<div>\n",
       "<style scoped>\n",
       "    .dataframe tbody tr th:only-of-type {\n",
       "        vertical-align: middle;\n",
       "    }\n",
       "\n",
       "    .dataframe tbody tr th {\n",
       "        vertical-align: top;\n",
       "    }\n",
       "\n",
       "    .dataframe thead th {\n",
       "        text-align: right;\n",
       "    }\n",
       "</style>\n",
       "<table border=\"1\" class=\"dataframe\">\n",
       "  <thead>\n",
       "    <tr style=\"text-align: right;\">\n",
       "      <th></th>\n",
       "      <th>user_id</th>\n",
       "      <th>gender</th>\n",
       "      <th>age</th>\n",
       "      <th>region</th>\n",
       "    </tr>\n",
       "  </thead>\n",
       "  <tbody>\n",
       "    <tr>\n",
       "      <th>0</th>\n",
       "      <td>1</td>\n",
       "      <td>Ж</td>\n",
       "      <td>23</td>\n",
       "      <td>Краснодарский край</td>\n",
       "    </tr>\n",
       "    <tr>\n",
       "      <th>1</th>\n",
       "      <td>2</td>\n",
       "      <td>Ж</td>\n",
       "      <td>43</td>\n",
       "      <td>Краснодарский край</td>\n",
       "    </tr>\n",
       "    <tr>\n",
       "      <th>2</th>\n",
       "      <td>3</td>\n",
       "      <td>М</td>\n",
       "      <td>36</td>\n",
       "      <td>Краснодарский край</td>\n",
       "    </tr>\n",
       "    <tr>\n",
       "      <th>3</th>\n",
       "      <td>4</td>\n",
       "      <td>Ж</td>\n",
       "      <td>39</td>\n",
       "      <td>Краснодарский край</td>\n",
       "    </tr>\n",
       "    <tr>\n",
       "      <th>4</th>\n",
       "      <td>5</td>\n",
       "      <td>М</td>\n",
       "      <td>43</td>\n",
       "      <td>Иркутская область</td>\n",
       "    </tr>\n",
       "  </tbody>\n",
       "</table>\n",
       "</div>"
      ],
      "text/plain": [
       "   user_id gender  age              region\n",
       "0        1      Ж   23  Краснодарский край\n",
       "1        2      Ж   43  Краснодарский край\n",
       "2        3      М   36  Краснодарский край\n",
       "3        4      Ж   39  Краснодарский край\n",
       "4        5      М   43   Иркутская область"
      ]
     },
     "execution_count": 14,
     "metadata": {},
     "output_type": "execute_result"
    }
   ],
   "source": [
    "user.head()"
   ]
  },
  {
   "cell_type": "code",
   "execution_count": 15,
   "id": "feac8d40-2e4b-4238-a63b-3ddf91b7b825",
   "metadata": {},
   "outputs": [
    {
     "data": {
      "text/plain": [
       "gender\n",
       "Ж    7636\n",
       "М    7364\n",
       "Name: count, dtype: int64"
      ]
     },
     "execution_count": 15,
     "metadata": {},
     "output_type": "execute_result"
    }
   ],
   "source": [
    "user['gender'].value_counts()"
   ]
  },
  {
   "cell_type": "code",
   "execution_count": 16,
   "id": "5e3aba80-3530-48cb-889d-31069c6c4eb2",
   "metadata": {},
   "outputs": [
    {
     "data": {
      "text/plain": [
       "region\n",
       "Краснодарский край       4674\n",
       "Санкт-Петербург          3474\n",
       "Иркутская область        2222\n",
       "Нижегородская область    2036\n",
       "Оренбургская область     1559\n",
       "Астраханская область      735\n",
       "Республика Адыгея         300\n",
       "Name: count, dtype: int64"
      ]
     },
     "execution_count": 16,
     "metadata": {},
     "output_type": "execute_result"
    }
   ],
   "source": [
    "user['region'].value_counts()"
   ]
  },
  {
   "cell_type": "code",
   "execution_count": 17,
   "id": "86d084f8-cfbf-4fc7-a5e9-8692d34d9996",
   "metadata": {},
   "outputs": [
    {
     "data": {
      "text/plain": [
       "<Axes: xlabel='age', ylabel='Count'>"
      ]
     },
     "execution_count": 17,
     "metadata": {},
     "output_type": "execute_result"
    },
    {
     "data": {
      "image/png": "[encoded data removed]",
      "text/plain": [
       "<Figure size 640x480 with 1 Axes>"
      ]
     },
     "metadata": {},
     "output_type": "display_data"
    }
   ],
   "source": [
    "sns.histplot(user['age'])"
   ]
  },
  {
   "cell_type": "code",
   "execution_count": 18,
   "id": "dbdcd613-aece-4edf-b011-9848defe865b",
   "metadata": {},
   "outputs": [
    {
     "data": {
      "text/html": [
       "<div>\n",
       "<style scoped>\n",
       "    .dataframe tbody tr th:only-of-type {\n",
       "        vertical-align: middle;\n",
       "    }\n",
       "\n",
       "    .dataframe tbody tr th {\n",
       "        vertical-align: top;\n",
       "    }\n",
       "\n",
       "    .dataframe thead th {\n",
       "        text-align: right;\n",
       "    }\n",
       "</style>\n",
       "<table border=\"1\" class=\"dataframe\">\n",
       "  <thead>\n",
       "    <tr style=\"text-align: right;\">\n",
       "      <th></th>\n",
       "      <th>user_id</th>\n",
       "      <th>age</th>\n",
       "    </tr>\n",
       "  </thead>\n",
       "  <tbody>\n",
       "    <tr>\n",
       "      <th>count</th>\n",
       "      <td>15000.000000</td>\n",
       "      <td>15000.000000</td>\n",
       "    </tr>\n",
       "    <tr>\n",
       "      <th>mean</th>\n",
       "      <td>7500.500000</td>\n",
       "      <td>34.429400</td>\n",
       "    </tr>\n",
       "    <tr>\n",
       "      <th>std</th>\n",
       "      <td>4330.271354</td>\n",
       "      <td>5.001122</td>\n",
       "    </tr>\n",
       "    <tr>\n",
       "      <th>min</th>\n",
       "      <td>1.000000</td>\n",
       "      <td>14.000000</td>\n",
       "    </tr>\n",
       "    <tr>\n",
       "      <th>25%</th>\n",
       "      <td>3750.750000</td>\n",
       "      <td>31.000000</td>\n",
       "    </tr>\n",
       "    <tr>\n",
       "      <th>50%</th>\n",
       "      <td>7500.500000</td>\n",
       "      <td>34.000000</td>\n",
       "    </tr>\n",
       "    <tr>\n",
       "      <th>75%</th>\n",
       "      <td>11250.250000</td>\n",
       "      <td>38.000000</td>\n",
       "    </tr>\n",
       "    <tr>\n",
       "      <th>max</th>\n",
       "      <td>15000.000000</td>\n",
       "      <td>58.000000</td>\n",
       "    </tr>\n",
       "  </tbody>\n",
       "</table>\n",
       "</div>"
      ],
      "text/plain": [
       "            user_id           age\n",
       "count  15000.000000  15000.000000\n",
       "mean    7500.500000     34.429400\n",
       "std     4330.271354      5.001122\n",
       "min        1.000000     14.000000\n",
       "25%     3750.750000     31.000000\n",
       "50%     7500.500000     34.000000\n",
       "75%    11250.250000     38.000000\n",
       "max    15000.000000     58.000000"
      ]
     },
     "execution_count": 18,
     "metadata": {},
     "output_type": "execute_result"
    }
   ],
   "source": [
    "user.describe()"
   ]
  },
  {
   "cell_type": "markdown",
   "id": "2cb51ddf-57eb-474c-a6ca-83bd7884b49d",
   "metadata": {},
   "source": [
    "<p><b>Выводы</b></p>\n",
    "<ul>\n",
    "    <li>Среди пользователей примерно одинаковое кол-во мужчин и женщин</li>\n",
    "    <li>Наибольшее число пользователей живут в Краснодарском крае</li>\n",
    "    <li>Средний возраст пользователей - 34 года</li>\n",
    "</ul>"
   ]
  },
  {
   "cell_type": "markdown",
   "id": "7e30c34e-cc40-49cc-814f-502fe22b4890",
   "metadata": {},
   "source": [
    "<h5>Таблица <b>good</b></h5>"
   ]
  },
  {
   "cell_type": "code",
   "execution_count": 19,
   "id": "6d8d293b-42a8-413a-8d65-562fcfc16000",
   "metadata": {},
   "outputs": [
    {
     "data": {
      "text/html": [
       "<div>\n",
       "<style scoped>\n",
       "    .dataframe tbody tr th:only-of-type {\n",
       "        vertical-align: middle;\n",
       "    }\n",
       "\n",
       "    .dataframe tbody tr th {\n",
       "        vertical-align: top;\n",
       "    }\n",
       "\n",
       "    .dataframe thead th {\n",
       "        text-align: right;\n",
       "    }\n",
       "</style>\n",
       "<table border=\"1\" class=\"dataframe\">\n",
       "  <thead>\n",
       "    <tr style=\"text-align: right;\">\n",
       "      <th></th>\n",
       "      <th>id</th>\n",
       "      <th>good_name</th>\n",
       "      <th>price_per_unit</th>\n",
       "    </tr>\n",
       "  </thead>\n",
       "  <tbody>\n",
       "    <tr>\n",
       "      <th>0</th>\n",
       "      <td>1</td>\n",
       "      <td>Органический авокадо</td>\n",
       "      <td>336</td>\n",
       "    </tr>\n",
       "    <tr>\n",
       "      <th>1</th>\n",
       "      <td>2</td>\n",
       "      <td>Льняные семена</td>\n",
       "      <td>796</td>\n",
       "    </tr>\n",
       "    <tr>\n",
       "      <th>2</th>\n",
       "      <td>3</td>\n",
       "      <td>Кокосовое масло Extra Virgin</td>\n",
       "      <td>558</td>\n",
       "    </tr>\n",
       "    <tr>\n",
       "      <th>3</th>\n",
       "      <td>4</td>\n",
       "      <td>Гречка цельнозерновая</td>\n",
       "      <td>484</td>\n",
       "    </tr>\n",
       "    <tr>\n",
       "      <th>4</th>\n",
       "      <td>5</td>\n",
       "      <td>Лосось дикого копчения</td>\n",
       "      <td>480</td>\n",
       "    </tr>\n",
       "  </tbody>\n",
       "</table>\n",
       "</div>"
      ],
      "text/plain": [
       "   id                     good_name  price_per_unit\n",
       "0   1          Органический авокадо             336\n",
       "1   2                Льняные семена             796\n",
       "2   3  Кокосовое масло Extra Virgin             558\n",
       "3   4         Гречка цельнозерновая             484\n",
       "4   5        Лосось дикого копчения             480"
      ]
     },
     "execution_count": 19,
     "metadata": {},
     "output_type": "execute_result"
    }
   ],
   "source": [
    "good.head()"
   ]
  },
  {
   "cell_type": "code",
   "execution_count": 20,
   "id": "05372dd4-657b-469b-92da-6b3c7d37e753",
   "metadata": {},
   "outputs": [
    {
     "data": {
      "text/html": [
       "<div>\n",
       "<style scoped>\n",
       "    .dataframe tbody tr th:only-of-type {\n",
       "        vertical-align: middle;\n",
       "    }\n",
       "\n",
       "    .dataframe tbody tr th {\n",
       "        vertical-align: top;\n",
       "    }\n",
       "\n",
       "    .dataframe thead th {\n",
       "        text-align: right;\n",
       "    }\n",
       "</style>\n",
       "<table border=\"1\" class=\"dataframe\">\n",
       "  <thead>\n",
       "    <tr style=\"text-align: right;\">\n",
       "      <th></th>\n",
       "      <th>id</th>\n",
       "      <th>price_per_unit</th>\n",
       "    </tr>\n",
       "  </thead>\n",
       "  <tbody>\n",
       "    <tr>\n",
       "      <th>count</th>\n",
       "      <td>100.000000</td>\n",
       "      <td>100.000000</td>\n",
       "    </tr>\n",
       "    <tr>\n",
       "      <th>mean</th>\n",
       "      <td>50.500000</td>\n",
       "      <td>508.860000</td>\n",
       "    </tr>\n",
       "    <tr>\n",
       "      <th>std</th>\n",
       "      <td>29.011492</td>\n",
       "      <td>99.104987</td>\n",
       "    </tr>\n",
       "    <tr>\n",
       "      <th>min</th>\n",
       "      <td>1.000000</td>\n",
       "      <td>299.000000</td>\n",
       "    </tr>\n",
       "    <tr>\n",
       "      <th>25%</th>\n",
       "      <td>25.750000</td>\n",
       "      <td>440.000000</td>\n",
       "    </tr>\n",
       "    <tr>\n",
       "      <th>50%</th>\n",
       "      <td>50.500000</td>\n",
       "      <td>496.000000</td>\n",
       "    </tr>\n",
       "    <tr>\n",
       "      <th>75%</th>\n",
       "      <td>75.250000</td>\n",
       "      <td>577.250000</td>\n",
       "    </tr>\n",
       "    <tr>\n",
       "      <th>max</th>\n",
       "      <td>100.000000</td>\n",
       "      <td>796.000000</td>\n",
       "    </tr>\n",
       "  </tbody>\n",
       "</table>\n",
       "</div>"
      ],
      "text/plain": [
       "               id  price_per_unit\n",
       "count  100.000000      100.000000\n",
       "mean    50.500000      508.860000\n",
       "std     29.011492       99.104987\n",
       "min      1.000000      299.000000\n",
       "25%     25.750000      440.000000\n",
       "50%     50.500000      496.000000\n",
       "75%     75.250000      577.250000\n",
       "max    100.000000      796.000000"
      ]
     },
     "execution_count": 20,
     "metadata": {},
     "output_type": "execute_result"
    }
   ],
   "source": [
    "good.describe()"
   ]
  },
  {
   "cell_type": "code",
   "execution_count": 21,
   "id": "2dd40da3-f5fb-4469-842f-4abfac308996",
   "metadata": {
    "scrolled": true
   },
   "outputs": [
    {
     "data": {
      "text/plain": [
       "array(['Авокадо-масло', 'Агавовый нектар', 'Алоэ вера напиток',\n",
       "       'Амарантовые хлопья', 'Ананас сушёный',\n",
       "       'Арахисовая паста без добавок', 'Белок гороха',\n",
       "       'Белый чай в листьях', 'Бобовые чипсы', 'Бобы мунг',\n",
       "       'Бразильские орехи', 'Брокколи свежий', 'Бурый рис',\n",
       "       'Горчичное масло',\n",
       "       'Горькая шоколадная плитка с высоким содержанием какао',\n",
       "       'Горький миндальный шоколад', 'Гранатовый сок натуральный',\n",
       "       'Гранулы соевого протеина', 'Грануляция колбасы из индейки',\n",
       "       'Грецкие орехи', 'Греческий йогурт с низким содержанием жира',\n",
       "       'Гречка цельнозерновая', 'Гуава сушёная', 'Зелёный горох свежий',\n",
       "       'Зелёный чай высокого качества', 'Кардамон органический',\n",
       "       'Кедровая мука', 'Кедровые орехи', 'Кедровые чипсы',\n",
       "       'Кедровый мед', 'Кешью жареные', 'Киноа органическая',\n",
       "       'Киноа-бургеры', 'Кишмиш-жмых', 'Кишмиш-масло', 'Кокосовая вода',\n",
       "       'Кокосовое масло Extra Virgin', 'Кокосовые хлопья',\n",
       "       'Кукурузные лепёшки с морской солью', 'Кукурузные чипсы без соли',\n",
       "       'Кунжутное масло', 'Кунжутные лепёшки', 'Кунжутный хлеб',\n",
       "       'Куркума в порошке', 'Лосось вяленый', 'Лосось дикого копчения',\n",
       "       'Лук-порей свежий', 'Льняное масло холодного отжима',\n",
       "       'Льняные семена', 'Льняные хлопья', 'Льняные чипсы',\n",
       "       'Масло авокадо', 'Масло из лесного ореха', 'Мед манука',\n",
       "       'Медовое масло', 'Медовый гранола-батончик', 'Миндальная мука',\n",
       "       'Миндальное масло', 'Миндальный йогурт', 'Морская капуста сушёная',\n",
       "       'Мука тигровых орехов', 'Овсяные хлопья без сахара',\n",
       "       'Органическая киноа-мюсли', 'Органическая кокосовая мука',\n",
       "       'Органическая чечевица', 'Органическая яблочная вода',\n",
       "       'Органические огурцы', 'Органический авокадо',\n",
       "       'Органический базилик', 'Органический медовый сироп',\n",
       "       'Органический чеснок', 'Органическое масло из чёрного тмина',\n",
       "       'Паста из сладкой картошки', 'Пекан жареный',\n",
       "       'Помидоры черри органические', 'Протеиновая пудра',\n",
       "       'Протеиновый порошок из гороха', 'Пшеничная трава в порошке',\n",
       "       'Семена подсолнечника', 'Семена тыквы', 'Семена чиа в желе',\n",
       "       'Семена чиа в меде', 'Спаржа свежая', 'Спирулина в порошке',\n",
       "       'Сушёные белые грибы', 'Тминовое масло', 'Тофу органический',\n",
       "       'Тёмный кунжут', 'Тёмный шоколад с низким содержанием сахара',\n",
       "       'Черный кунжут', 'Черный перец горошком', 'Чиа-семена',\n",
       "       'Чёрная рисовая мука', 'Чёрный кунжутный хлеб',\n",
       "       'Шоколадные коктейльные протеины', 'Шпинат органический',\n",
       "       'Ягоды асаи в порошке', 'Ягоды годжи', 'Ягоды черники свежие',\n",
       "       'Ячменная крупа'], dtype=object)"
      ]
     },
     "execution_count": 21,
     "metadata": {},
     "output_type": "execute_result"
    }
   ],
   "source": [
    "good['good_name'].sort_values(ascending=True).unique()"
   ]
  },
  {
   "cell_type": "code",
   "execution_count": 22,
   "id": "62fa64b8-5473-4fcf-9934-220a8e7d3a58",
   "metadata": {},
   "outputs": [
    {
     "data": {
      "text/html": [
       "<div>\n",
       "<style scoped>\n",
       "    .dataframe tbody tr th:only-of-type {\n",
       "        vertical-align: middle;\n",
       "    }\n",
       "\n",
       "    .dataframe tbody tr th {\n",
       "        vertical-align: top;\n",
       "    }\n",
       "\n",
       "    .dataframe thead th {\n",
       "        text-align: right;\n",
       "    }\n",
       "</style>\n",
       "<table border=\"1\" class=\"dataframe\">\n",
       "  <thead>\n",
       "    <tr style=\"text-align: right;\">\n",
       "      <th></th>\n",
       "      <th>id</th>\n",
       "      <th>good_name</th>\n",
       "      <th>price_per_unit</th>\n",
       "    </tr>\n",
       "  </thead>\n",
       "  <tbody>\n",
       "    <tr>\n",
       "      <th>76</th>\n",
       "      <td>77</td>\n",
       "      <td>Масло авокадо</td>\n",
       "      <td>548</td>\n",
       "    </tr>\n",
       "    <tr>\n",
       "      <th>90</th>\n",
       "      <td>91</td>\n",
       "      <td>Авокадо-масло</td>\n",
       "      <td>550</td>\n",
       "    </tr>\n",
       "  </tbody>\n",
       "</table>\n",
       "</div>"
      ],
      "text/plain": [
       "    id      good_name  price_per_unit\n",
       "76  77  Масло авокадо             548\n",
       "90  91  Авокадо-масло             550"
      ]
     },
     "execution_count": 22,
     "metadata": {},
     "output_type": "execute_result"
    }
   ],
   "source": [
    "good[(good['good_name'] == 'Авокадо-масло') | (good['good_name'] == 'Масло авокадо')]"
   ]
  },
  {
   "cell_type": "markdown",
   "id": "864b4990-c1d8-47bc-bc66-3f474bcaf819",
   "metadata": {},
   "source": [
    "<p><b>Выводы</b></p>\n",
    "<ul>\n",
    "    <li>В списке товаров есть повторяющиеся позиции (Масло авокадо и Авокадо-масло)</li>\n",
    "</ul>\n",
    "<p><b>Гипотеза:</b> сначала товар назывался \"масло авокадо\", потом его переименовали</p>"
   ]
  },
  {
   "cell_type": "code",
   "execution_count": 53,
   "id": "08d73100-27b2-445a-8b81-a8b3a09676ba",
   "metadata": {},
   "outputs": [],
   "source": [
    "a = purchase_good.merge(user_purchase, left_on='purchase_id', right_on='id')\n",
    "b = a.merge(good, left_on='good_id', right_on='id')"
   ]
  },
  {
   "cell_type": "code",
   "execution_count": 24,
   "id": "a552c1d3-d364-461b-a79f-8de9390c2e9e",
   "metadata": {},
   "outputs": [
    {
     "data": {
      "text/html": [
       "<div>\n",
       "<style scoped>\n",
       "    .dataframe tbody tr th:only-of-type {\n",
       "        vertical-align: middle;\n",
       "    }\n",
       "\n",
       "    .dataframe tbody tr th {\n",
       "        vertical-align: top;\n",
       "    }\n",
       "\n",
       "    .dataframe thead th {\n",
       "        text-align: right;\n",
       "    }\n",
       "</style>\n",
       "<table border=\"1\" class=\"dataframe\">\n",
       "  <thead>\n",
       "    <tr style=\"text-align: right;\">\n",
       "      <th></th>\n",
       "      <th>purchase_id</th>\n",
       "      <th>good_id</th>\n",
       "      <th>amount</th>\n",
       "      <th>was_in_recommended_goods</th>\n",
       "      <th>id_x</th>\n",
       "      <th>user_id</th>\n",
       "      <th>date_time</th>\n",
       "      <th>id_y</th>\n",
       "      <th>good_name</th>\n",
       "      <th>price_per_unit</th>\n",
       "    </tr>\n",
       "  </thead>\n",
       "  <tbody>\n",
       "    <tr>\n",
       "      <th>61307</th>\n",
       "      <td>74923</td>\n",
       "      <td>91</td>\n",
       "      <td>1</td>\n",
       "      <td>False</td>\n",
       "      <td>74923</td>\n",
       "      <td>2589</td>\n",
       "      <td>2023-11-28 23:22:36</td>\n",
       "      <td>91</td>\n",
       "      <td>Авокадо-масло</td>\n",
       "      <td>550</td>\n",
       "    </tr>\n",
       "    <tr>\n",
       "      <th>155828</th>\n",
       "      <td>74926</td>\n",
       "      <td>91</td>\n",
       "      <td>1</td>\n",
       "      <td>False</td>\n",
       "      <td>74926</td>\n",
       "      <td>6622</td>\n",
       "      <td>2023-11-28 23:26:58</td>\n",
       "      <td>91</td>\n",
       "      <td>Авокадо-масло</td>\n",
       "      <td>550</td>\n",
       "    </tr>\n",
       "    <tr>\n",
       "      <th>155832</th>\n",
       "      <td>74926</td>\n",
       "      <td>77</td>\n",
       "      <td>1</td>\n",
       "      <td>False</td>\n",
       "      <td>74926</td>\n",
       "      <td>6622</td>\n",
       "      <td>2023-11-28 23:26:58</td>\n",
       "      <td>77</td>\n",
       "      <td>Масло авокадо</td>\n",
       "      <td>548</td>\n",
       "    </tr>\n",
       "    <tr>\n",
       "      <th>327150</th>\n",
       "      <td>74936</td>\n",
       "      <td>91</td>\n",
       "      <td>1</td>\n",
       "      <td>False</td>\n",
       "      <td>74936</td>\n",
       "      <td>13917</td>\n",
       "      <td>2023-11-28 23:38:41</td>\n",
       "      <td>91</td>\n",
       "      <td>Авокадо-масло</td>\n",
       "      <td>550</td>\n",
       "    </tr>\n",
       "    <tr>\n",
       "      <th>60586</th>\n",
       "      <td>74944</td>\n",
       "      <td>91</td>\n",
       "      <td>1</td>\n",
       "      <td>True</td>\n",
       "      <td>74944</td>\n",
       "      <td>2563</td>\n",
       "      <td>2023-11-28 23:49:39</td>\n",
       "      <td>91</td>\n",
       "      <td>Авокадо-масло</td>\n",
       "      <td>550</td>\n",
       "    </tr>\n",
       "  </tbody>\n",
       "</table>\n",
       "</div>"
      ],
      "text/plain": [
       "        purchase_id  good_id  amount  was_in_recommended_goods   id_x  \\\n",
       "61307         74923       91       1                     False  74923   \n",
       "155828        74926       91       1                     False  74926   \n",
       "155832        74926       77       1                     False  74926   \n",
       "327150        74936       91       1                     False  74936   \n",
       "60586         74944       91       1                      True  74944   \n",
       "\n",
       "        user_id           date_time  id_y      good_name  price_per_unit  \n",
       "61307      2589 2023-11-28 23:22:36    91  Авокадо-масло             550  \n",
       "155828     6622 2023-11-28 23:26:58    91  Авокадо-масло             550  \n",
       "155832     6622 2023-11-28 23:26:58    77  Масло авокадо             548  \n",
       "327150    13917 2023-11-28 23:38:41    91  Авокадо-масло             550  \n",
       "60586      2563 2023-11-28 23:49:39    91  Авокадо-масло             550  "
      ]
     },
     "execution_count": 24,
     "metadata": {},
     "output_type": "execute_result"
    }
   ],
   "source": [
    "b[(b['good_name'] == 'Авокадо-масло') | (b['good_name'] == 'Масло авокадо')] \\\n",
    "    .sort_values('date_time', ascending=True).tail()"
   ]
  },
  {
   "cell_type": "markdown",
   "id": "af554b28-8a21-48ec-a5b5-e75c41c69b2d",
   "metadata": {},
   "source": [
    "<p><b>Вывод:</b> гипотеза не подтвердилась, потому что оба товара покупались в том числе и в одинаковый день. Скорее всего, это сбой программы.</p>"
   ]
  },
  {
   "cell_type": "markdown",
   "id": "3b02422b-b099-4889-8043-ca47d7049f1f",
   "metadata": {},
   "source": [
    "<h5>Таблица <b>user_purchase</b></h5>"
   ]
  },
  {
   "cell_type": "code",
   "execution_count": 25,
   "id": "2c60e39b-af54-41b9-beaf-6f43c6bbe7c8",
   "metadata": {},
   "outputs": [
    {
     "data": {
      "text/html": [
       "<div>\n",
       "<style scoped>\n",
       "    .dataframe tbody tr th:only-of-type {\n",
       "        vertical-align: middle;\n",
       "    }\n",
       "\n",
       "    .dataframe tbody tr th {\n",
       "        vertical-align: top;\n",
       "    }\n",
       "\n",
       "    .dataframe thead th {\n",
       "        text-align: right;\n",
       "    }\n",
       "</style>\n",
       "<table border=\"1\" class=\"dataframe\">\n",
       "  <thead>\n",
       "    <tr style=\"text-align: right;\">\n",
       "      <th></th>\n",
       "      <th>id</th>\n",
       "      <th>user_id</th>\n",
       "      <th>date_time</th>\n",
       "    </tr>\n",
       "  </thead>\n",
       "  <tbody>\n",
       "    <tr>\n",
       "      <th>0</th>\n",
       "      <td>1</td>\n",
       "      <td>5784</td>\n",
       "      <td>2023-09-20 00:01:07</td>\n",
       "    </tr>\n",
       "    <tr>\n",
       "      <th>1</th>\n",
       "      <td>2</td>\n",
       "      <td>4468</td>\n",
       "      <td>2023-09-20 00:04:18</td>\n",
       "    </tr>\n",
       "    <tr>\n",
       "      <th>2</th>\n",
       "      <td>3</td>\n",
       "      <td>3827</td>\n",
       "      <td>2023-09-20 00:04:35</td>\n",
       "    </tr>\n",
       "    <tr>\n",
       "      <th>3</th>\n",
       "      <td>4</td>\n",
       "      <td>3272</td>\n",
       "      <td>2023-09-20 00:06:32</td>\n",
       "    </tr>\n",
       "    <tr>\n",
       "      <th>4</th>\n",
       "      <td>5</td>\n",
       "      <td>9461</td>\n",
       "      <td>2023-09-20 00:08:24</td>\n",
       "    </tr>\n",
       "  </tbody>\n",
       "</table>\n",
       "</div>"
      ],
      "text/plain": [
       "   id  user_id           date_time\n",
       "0   1     5784 2023-09-20 00:01:07\n",
       "1   2     4468 2023-09-20 00:04:18\n",
       "2   3     3827 2023-09-20 00:04:35\n",
       "3   4     3272 2023-09-20 00:06:32\n",
       "4   5     9461 2023-09-20 00:08:24"
      ]
     },
     "execution_count": 25,
     "metadata": {},
     "output_type": "execute_result"
    }
   ],
   "source": [
    "user_purchase.head()"
   ]
  },
  {
   "cell_type": "code",
   "execution_count": 26,
   "id": "3ae208c2-f211-4ea6-8e78-e9bd6723c03b",
   "metadata": {},
   "outputs": [
    {
     "data": {
      "text/plain": [
       "<Axes: xlabel='date_time', ylabel='Count'>"
      ]
     },
     "execution_count": 26,
     "metadata": {},
     "output_type": "execute_result"
    },
    {
     "data": {
      "image/png": "[encoded data removed]",
      "text/plain": [
       "<Figure size 640x480 with 1 Axes>"
      ]
     },
     "metadata": {},
     "output_type": "display_data"
    }
   ],
   "source": [
    "sns.histplot(user_purchase['date_time'])"
   ]
  },
  {
   "cell_type": "markdown",
   "id": "d70e8cb1-9918-49d9-a048-13fadce57cbb",
   "metadata": {},
   "source": [
    "<p><b>Выводы:</b> на графике видно, что нет аномальных скачков вверх или вниз, что говорит о независимости числа продаж от даты</p>"
   ]
  },
  {
   "cell_type": "markdown",
   "id": "01f49585-9b4e-4fad-a25f-b85beb94d31f",
   "metadata": {},
   "source": [
    "<h2>Анализ результатов A/B-теста</h2>"
   ]
  },
  {
   "cell_type": "markdown",
   "id": "0b0d68f6-90ae-4071-af0f-bf378f5f4a9f",
   "metadata": {},
   "source": [
    "<h4>Проверка разбиения пользователей на группы</h4>"
   ]
  },
  {
   "cell_type": "code",
   "execution_count": 27,
   "id": "d0fa21d3-f2a3-42ba-b5df-064f059c0ee9",
   "metadata": {},
   "outputs": [],
   "source": [
    "control_group = set(user_ab_group[user_ab_group['group'] == 'control']['user_id'])\n",
    "treatment_group = set(user_ab_group[user_ab_group['group'] == 'treatment']['user_id'])"
   ]
  },
  {
   "cell_type": "code",
   "execution_count": 28,
   "id": "57717af5-4f10-4665-9bf8-a0797bc36740",
   "metadata": {},
   "outputs": [
    {
     "data": {
      "text/plain": [
       "set()"
      ]
     },
     "execution_count": 28,
     "metadata": {},
     "output_type": "execute_result"
    }
   ],
   "source": [
    "control_group & treatment_group"
   ]
  },
  {
   "cell_type": "code",
   "execution_count": 29,
   "id": "e3021183-78a8-447e-bea9-e9e6a909b540",
   "metadata": {},
   "outputs": [
    {
     "data": {
      "text/html": [
       "<div>\n",
       "<style scoped>\n",
       "    .dataframe tbody tr th:only-of-type {\n",
       "        vertical-align: middle;\n",
       "    }\n",
       "\n",
       "    .dataframe tbody tr th {\n",
       "        vertical-align: top;\n",
       "    }\n",
       "\n",
       "    .dataframe thead th {\n",
       "        text-align: right;\n",
       "    }\n",
       "</style>\n",
       "<table border=\"1\" class=\"dataframe\">\n",
       "  <thead>\n",
       "    <tr style=\"text-align: right;\">\n",
       "      <th></th>\n",
       "      <th>group</th>\n",
       "      <th>cnt</th>\n",
       "    </tr>\n",
       "  </thead>\n",
       "  <tbody>\n",
       "    <tr>\n",
       "      <th>0</th>\n",
       "      <td>control</td>\n",
       "      <td>5925</td>\n",
       "    </tr>\n",
       "    <tr>\n",
       "      <th>1</th>\n",
       "      <td>treatment</td>\n",
       "      <td>5990</td>\n",
       "    </tr>\n",
       "  </tbody>\n",
       "</table>\n",
       "</div>"
      ],
      "text/plain": [
       "       group   cnt\n",
       "0    control  5925\n",
       "1  treatment  5990"
      ]
     },
     "execution_count": 29,
     "metadata": {},
     "output_type": "execute_result"
    }
   ],
   "source": [
    "user_ab_group.groupby('group', as_index=False) \\\n",
    "            .agg({'user_id': 'count'}) \\\n",
    "            .rename(columns={'user_id': 'cnt'})"
   ]
  },
  {
   "cell_type": "code",
   "execution_count": 30,
   "id": "a4d5b167-a30c-45ef-bf1f-4f58d5b3afec",
   "metadata": {},
   "outputs": [],
   "source": [
    "our_diff = len(treatment_group) - len(control_group)"
   ]
  },
  {
   "cell_type": "code",
   "execution_count": 31,
   "id": "382609b8-9941-481e-bbff-76c25daa5caa",
   "metadata": {},
   "outputs": [
    {
     "data": {
      "text/plain": [
       "65"
      ]
     },
     "execution_count": 31,
     "metadata": {},
     "output_type": "execute_result"
    }
   ],
   "source": [
    "our_diff"
   ]
  },
  {
   "cell_type": "code",
   "execution_count": 56,
   "id": "b093bef8-bb63-4c31-bad5-f28ff8d48a44",
   "metadata": {},
   "outputs": [
    {
     "data": {
      "text/plain": [
       "1.0121930567315833"
      ]
     },
     "execution_count": 56,
     "metadata": {},
     "output_type": "execute_result"
    }
   ],
   "source": [
    "len(treatment_group) / len(control_group)"
   ]
  },
  {
   "cell_type": "markdown",
   "id": "db46bc76-99f0-4e11-9675-2ed664d48e4e",
   "metadata": {},
   "source": [
    "<p>Сделаем проверку на наличие ошибки <b>Sample Ratio Mismatch (SRM)</b> - равновероятно ли пользователи распределяются в группы?</p>"
   ]
  },
  {
   "cell_type": "markdown",
   "id": "bfcd0776-4117-4c98-8913-cae4cf813611",
   "metadata": {},
   "source": [
    "<p>Насколько вероятно наблюдать такое же различие при разбиении на группы?</p>"
   ]
  },
  {
   "cell_type": "code",
   "execution_count": 32,
   "id": "2c571460-e68b-4b4d-bdb1-2e01c65de75e",
   "metadata": {},
   "outputs": [],
   "source": [
    "diffs = []\n",
    "\n",
    "for i in range(10_000):\n",
    "    arr = [random.randint(0, 1) for _ in range(len(user_ab_group))]\n",
    "    # 0 - экспериментальная\n",
    "    # 1 - контрольная\n",
    "    diff = sum(arr) - (len(arr) - sum(arr)) # различие кол-ва пользователей в группах\n",
    "    diffs.append(diff)"
   ]
  },
  {
   "cell_type": "code",
   "execution_count": 33,
   "id": "25a337ea-bfd9-4f0c-9294-967d3ff49ab1",
   "metadata": {},
   "outputs": [],
   "source": [
    "diffs_s = pd.Series(diffs)"
   ]
  },
  {
   "cell_type": "code",
   "execution_count": 34,
   "id": "2c321c44-5fd7-48cd-b429-c88cc9c9f2c1",
   "metadata": {},
   "outputs": [
    {
     "data": {
      "text/plain": [
       "0         7\n",
       "1       -75\n",
       "2       107\n",
       "3       -25\n",
       "4       133\n",
       "       ... \n",
       "9995     75\n",
       "9996    111\n",
       "9997   -107\n",
       "9998    143\n",
       "9999    219\n",
       "Length: 10000, dtype: int64"
      ]
     },
     "execution_count": 34,
     "metadata": {},
     "output_type": "execute_result"
    }
   ],
   "source": [
    "diffs_s"
   ]
  },
  {
   "cell_type": "code",
   "execution_count": 35,
   "id": "fe10d0fc-4ffb-4a0b-bf00-965460ea8313",
   "metadata": {},
   "outputs": [
    {
     "data": {
      "text/plain": [
       "<matplotlib.collections.LineCollection at 0x257ae75fcb0>"
      ]
     },
     "execution_count": 35,
     "metadata": {},
     "output_type": "execute_result"
    },
    {
     "data": {
      "image/png": "[encoded data removed]",
      "text/plain": [
       "<Figure size 640x480 with 1 Axes>"
      ]
     },
     "metadata": {},
     "output_type": "display_data"
    }
   ],
   "source": [
    "ax = sns.histplot(diffs_s)\n",
    "ax.vlines([our_diff], 0, 550, linestyles='dashed', color='green')"
   ]
  },
  {
   "cell_type": "code",
   "execution_count": 36,
   "id": "dd179146-6af5-48a1-b4fe-647ebc0dad62",
   "metadata": {},
   "outputs": [],
   "source": [
    "alpha = 0.05\n",
    "half_alpha = floor(len(diffs_s) * alpha / 2)\n",
    "diffs_cut = sorted(diffs_s)[half_alpha:-half_alpha]"
   ]
  },
  {
   "cell_type": "code",
   "execution_count": 37,
   "id": "0452679a-7419-4bc2-8a3a-bcd363bb42f2",
   "metadata": {},
   "outputs": [
    {
     "data": {
      "text/plain": [
       "<matplotlib.collections.LineCollection at 0x257b09df250>"
      ]
     },
     "execution_count": 37,
     "metadata": {},
     "output_type": "execute_result"
    },
    {
     "data": {
      "image/png": "[encoded data removed]",
      "text/plain": [
       "<Figure size 640x480 with 1 Axes>"
      ]
     },
     "metadata": {},
     "output_type": "display_data"
    }
   ],
   "source": [
    "ax = sns.histplot(diffs_s)\n",
    "\n",
    "ax.vlines([our_diff], 0, 550, linestyles='dashed', color='orange')\n",
    "ax.vlines([diffs_cut[0], diffs_cut[-1]], 0, 550, linestyles='dashed', color='red')"
   ]
  },
  {
   "cell_type": "markdown",
   "id": "cd1b8ab6-e547-401d-b7fa-62bc9cc68683",
   "metadata": {},
   "source": [
    "<p>Значение не попало в критические области, следовательно, ошибка SRM отсутствует и разбиение на группы прошло должным образом</p>"
   ]
  },
  {
   "cell_type": "markdown",
   "id": "00f4bdd7-7681-4422-b1ca-a796d81eba0b",
   "metadata": {},
   "source": [
    "<h4>Работа с данными</h4>"
   ]
  },
  {
   "cell_type": "markdown",
   "id": "34d1cd3b-8a70-48ac-bc55-07f083d82ad7",
   "metadata": {},
   "source": [
    "<p>Период проведения эксперимента — с 01.10.2023 по 14.10.2023 включительно.</p>"
   ]
  },
  {
   "cell_type": "code",
   "execution_count": 38,
   "id": "e305364e-b689-4f4b-90a3-3c73bebda0ff",
   "metadata": {},
   "outputs": [],
   "source": [
    "# user + user_ab_group\n",
    "t1 = pd.merge(user, user_ab_group, left_on='user_id', right_on='user_id')\n",
    "\n",
    "#t1 + user_purchase\n",
    "t2 = pd.merge(t1, user_purchase, left_on='user_id', right_on='user_id') \\\n",
    "        .rename(columns={'id':'purchase_id'})\n",
    "\n",
    "#t2 + purchase_good\n",
    "t3 = pd.merge(t2, purchase_good, left_on='purchase_id', right_on='purchase_id') \\\n",
    "        .sort_values(['user_id', 'purchase_id', 'good_id'])"
   ]
  },
  {
   "cell_type": "code",
   "execution_count": 39,
   "id": "7b9bfc4d-adde-4dfa-b17a-31fb7a4924a1",
   "metadata": {},
   "outputs": [],
   "source": [
    "ab_result_table = t3[(t3['date_time'] >= '2023-10-01') &\n",
    "                    (t3['date_time'] >= '2023-10-01')]"
   ]
  },
  {
   "cell_type": "code",
   "execution_count": 40,
   "id": "a2b71c42-a8b5-4069-86db-26e5a745e6be",
   "metadata": {},
   "outputs": [],
   "source": [
    "ab_result_table = ab_result_table \\\n",
    "                    .drop(columns=['gender', 'age', 'region', 'date_time', 'amount']) \\\n",
    "                    .sort_values(['user_id', 'purchase_id', 'good_id'],\n",
    "                                ascending=True)"
   ]
  },
  {
   "cell_type": "code",
   "execution_count": 41,
   "id": "c2abefb8-d18d-4718-bb71-77eb045cb8d4",
   "metadata": {},
   "outputs": [],
   "source": [
    "ab_result_table['was_in_recommended_goods'] = ab_result_table['was_in_recommended_goods'] \\\n",
    "                                                .astype('int')"
   ]
  },
  {
   "cell_type": "code",
   "execution_count": 42,
   "id": "3d9cdbbb-70c9-4d01-89b2-e3a7674a65af",
   "metadata": {},
   "outputs": [
    {
     "data": {
      "text/html": [
       "<div>\n",
       "<style scoped>\n",
       "    .dataframe tbody tr th:only-of-type {\n",
       "        vertical-align: middle;\n",
       "    }\n",
       "\n",
       "    .dataframe tbody tr th {\n",
       "        vertical-align: top;\n",
       "    }\n",
       "\n",
       "    .dataframe thead th {\n",
       "        text-align: right;\n",
       "    }\n",
       "</style>\n",
       "<table border=\"1\" class=\"dataframe\">\n",
       "  <thead>\n",
       "    <tr style=\"text-align: right;\">\n",
       "      <th></th>\n",
       "      <th>user_id</th>\n",
       "      <th>group</th>\n",
       "      <th>purchase_id</th>\n",
       "      <th>good_id</th>\n",
       "      <th>was_in_recommended_goods</th>\n",
       "    </tr>\n",
       "  </thead>\n",
       "  <tbody>\n",
       "    <tr>\n",
       "      <th>0</th>\n",
       "      <td>1</td>\n",
       "      <td>control</td>\n",
       "      <td>15495</td>\n",
       "      <td>34</td>\n",
       "      <td>0</td>\n",
       "    </tr>\n",
       "    <tr>\n",
       "      <th>3</th>\n",
       "      <td>1</td>\n",
       "      <td>control</td>\n",
       "      <td>42640</td>\n",
       "      <td>12</td>\n",
       "      <td>1</td>\n",
       "    </tr>\n",
       "    <tr>\n",
       "      <th>4</th>\n",
       "      <td>1</td>\n",
       "      <td>control</td>\n",
       "      <td>42640</td>\n",
       "      <td>35</td>\n",
       "      <td>1</td>\n",
       "    </tr>\n",
       "    <tr>\n",
       "      <th>2</th>\n",
       "      <td>1</td>\n",
       "      <td>control</td>\n",
       "      <td>42640</td>\n",
       "      <td>36</td>\n",
       "      <td>0</td>\n",
       "    </tr>\n",
       "    <tr>\n",
       "      <th>1</th>\n",
       "      <td>1</td>\n",
       "      <td>control</td>\n",
       "      <td>42640</td>\n",
       "      <td>48</td>\n",
       "      <td>0</td>\n",
       "    </tr>\n",
       "  </tbody>\n",
       "</table>\n",
       "</div>"
      ],
      "text/plain": [
       "   user_id    group  purchase_id  good_id  was_in_recommended_goods\n",
       "0        1  control        15495       34                         0\n",
       "3        1  control        42640       12                         1\n",
       "4        1  control        42640       35                         1\n",
       "2        1  control        42640       36                         0\n",
       "1        1  control        42640       48                         0"
      ]
     },
     "execution_count": 42,
     "metadata": {},
     "output_type": "execute_result"
    }
   ],
   "source": [
    "ab_result_table.head()"
   ]
  },
  {
   "cell_type": "code",
   "execution_count": 43,
   "id": "1acbcc33-64e8-4dad-bdae-12d8a044b3a4",
   "metadata": {},
   "outputs": [],
   "source": [
    "t1 = ab_result_table.groupby(['user_id', 'group', 'purchase_id'], as_index=False) \\\n",
    "               .agg({'was_in_recommended_goods': lambda x: round(x.mean(), 2)})"
   ]
  },
  {
   "cell_type": "code",
   "execution_count": 44,
   "id": "57ef4192-a04b-4877-882a-66c4a155a68e",
   "metadata": {},
   "outputs": [],
   "source": [
    "t2 = t1.groupby('user_id', as_index=False) \\\n",
    "       .agg({'was_in_recommended_goods': lambda x: round(x.mean(), 3)})"
   ]
  },
  {
   "cell_type": "code",
   "execution_count": 45,
   "id": "5a58fcb8-6ef5-4cd2-81b7-cb989abcd659",
   "metadata": {},
   "outputs": [],
   "source": [
    "#t2 + user_ab_group\n",
    "result_table = pd.merge(t2, user_ab_group, left_on='user_id', right_on='user_id')"
   ]
  },
  {
   "cell_type": "code",
   "execution_count": 46,
   "id": "35a2db9a-a96a-42d2-bb62-a25605fcb655",
   "metadata": {
    "scrolled": true
   },
   "outputs": [
    {
     "data": {
      "text/html": [
       "<div>\n",
       "<style scoped>\n",
       "    .dataframe tbody tr th:only-of-type {\n",
       "        vertical-align: middle;\n",
       "    }\n",
       "\n",
       "    .dataframe tbody tr th {\n",
       "        vertical-align: top;\n",
       "    }\n",
       "\n",
       "    .dataframe thead th {\n",
       "        text-align: right;\n",
       "    }\n",
       "</style>\n",
       "<table border=\"1\" class=\"dataframe\">\n",
       "  <thead>\n",
       "    <tr style=\"text-align: right;\">\n",
       "      <th></th>\n",
       "      <th>user_id</th>\n",
       "      <th>was_in_recommended_goods</th>\n",
       "      <th>group</th>\n",
       "    </tr>\n",
       "  </thead>\n",
       "  <tbody>\n",
       "    <tr>\n",
       "      <th>0</th>\n",
       "      <td>1</td>\n",
       "      <td>0.375</td>\n",
       "      <td>control</td>\n",
       "    </tr>\n",
       "    <tr>\n",
       "      <th>1</th>\n",
       "      <td>2</td>\n",
       "      <td>0.424</td>\n",
       "      <td>treatment</td>\n",
       "    </tr>\n",
       "    <tr>\n",
       "      <th>2</th>\n",
       "      <td>4</td>\n",
       "      <td>0.650</td>\n",
       "      <td>control</td>\n",
       "    </tr>\n",
       "    <tr>\n",
       "      <th>3</th>\n",
       "      <td>6</td>\n",
       "      <td>0.625</td>\n",
       "      <td>treatment</td>\n",
       "    </tr>\n",
       "    <tr>\n",
       "      <th>4</th>\n",
       "      <td>9</td>\n",
       "      <td>0.473</td>\n",
       "      <td>control</td>\n",
       "    </tr>\n",
       "  </tbody>\n",
       "</table>\n",
       "</div>"
      ],
      "text/plain": [
       "   user_id  was_in_recommended_goods      group\n",
       "0        1                     0.375    control\n",
       "1        2                     0.424  treatment\n",
       "2        4                     0.650    control\n",
       "3        6                     0.625  treatment\n",
       "4        9                     0.473    control"
      ]
     },
     "execution_count": 46,
     "metadata": {},
     "output_type": "execute_result"
    }
   ],
   "source": [
    "result_table.head()"
   ]
  },
  {
   "cell_type": "code",
   "execution_count": 47,
   "id": "ce057a5a-dddf-4b91-a978-65bd143b3d94",
   "metadata": {},
   "outputs": [],
   "source": [
    "result_table = result_table.rename(columns={'was_in_recommended_goods': 'metric'})"
   ]
  },
  {
   "cell_type": "markdown",
   "id": "c7bcf7b6-ae2d-4c89-8687-9a59098db167",
   "metadata": {},
   "source": [
    "<h2>Проверим выборки на нормальность распределения</h2>"
   ]
  },
  {
   "cell_type": "code",
   "execution_count": 48,
   "id": "1eac6ddd-cb44-448e-89f4-dc2e55743de8",
   "metadata": {},
   "outputs": [
    {
     "data": {
      "text/plain": [
       "<Axes: xlabel='metric', ylabel='Count'>"
      ]
     },
     "execution_count": 48,
     "metadata": {},
     "output_type": "execute_result"
    },
    {
     "data": {
      "image/png": "[encoded data removed]",
      "text/plain": [
       "<Figure size 640x480 with 1 Axes>"
      ]
     },
     "metadata": {},
     "output_type": "display_data"
    }
   ],
   "source": [
    "sns.histplot(result_table[result_table['group'] == 'control']['metric'])"
   ]
  },
  {
   "cell_type": "code",
   "execution_count": 49,
   "id": "9448e43f-b100-4296-a84d-c24dc8b6217c",
   "metadata": {},
   "outputs": [
    {
     "data": {
      "text/plain": [
       "<Axes: xlabel='metric', ylabel='Count'>"
      ]
     },
     "execution_count": 49,
     "metadata": {},
     "output_type": "execute_result"
    },
    {
     "data": {
      "image/png": "[encoded data removed]",
      "text/plain": [
       "<Figure size 640x480 with 1 Axes>"
      ]
     },
     "metadata": {},
     "output_type": "display_data"
    }
   ],
   "source": [
    "sns.histplot(result_table[result_table['group'] == 'treatment']['metric'])"
   ]
  },
  {
   "cell_type": "markdown",
   "id": "b8a55c72-00b7-4857-ad34-6f7cdd1d20f7",
   "metadata": {},
   "source": [
    "<h3>Проверка гипотезы</h3>\n",
    "<ul>\n",
    "<li><p><b>H1</b>: Доля покупок с рекомендованными товарами <b>поменялась</b> в экспериментальной группе, чем в контрольной</p></li>\n",
    "<li><p><b>H0</b>: Доля покупок с рекомендованными товарами <b>такая же</b> в экспериментальной группе по сравнению с контрольной</p></li>\n",
    "</ul>"
   ]
  },
  {
   "cell_type": "code",
   "execution_count": 58,
   "id": "02ca95c0-4cd9-4aa2-b627-1d6900a7abc9",
   "metadata": {},
   "outputs": [],
   "source": [
    "from scipy.stats import levene, ttest_ind"
   ]
  },
  {
   "cell_type": "code",
   "execution_count": 60,
   "id": "73bd7a3b-2a5f-4db7-890e-1dc2cd9ef4b1",
   "metadata": {},
   "outputs": [],
   "source": [
    "# проверка равенства дисперсий (тест Левена)\n",
    "# в качестве 1го аргумента - значения метрик контрольной группы (control),\n",
    "# в качестве 2го аргумента - значения метрик экспериментальной группы (treatment)\n",
    "\n",
    "stats, pvalue = levene(result_table[result_table['group'] == 'control']['metric'],\n",
    "      result_table[result_table['group'] == 'treatment']['metric'])"
   ]
  },
  {
   "cell_type": "code",
   "execution_count": 63,
   "id": "00275472-bc89-441e-8f0b-9e50ca0ee3eb",
   "metadata": {},
   "outputs": [
    {
     "data": {
      "text/plain": [
       "np.float64(1.87)"
      ]
     },
     "execution_count": 63,
     "metadata": {},
     "output_type": "execute_result"
    }
   ],
   "source": [
    "round(stats, 2)"
   ]
  },
  {
   "cell_type": "code",
   "execution_count": 64,
   "id": "8a3952e8-319c-4afc-a927-b43af1310d6e",
   "metadata": {},
   "outputs": [
    {
     "data": {
      "text/plain": [
       "np.float64(0.17)"
      ]
     },
     "execution_count": 64,
     "metadata": {},
     "output_type": "execute_result"
    }
   ],
   "source": [
    "round(pvalue, 2)"
   ]
  },
  {
   "cell_type": "markdown",
   "id": "cb9a6528-1f18-4f46-8a73-6f4d1faca359",
   "metadata": {},
   "source": [
    "<p><b>pvalue > a (0.05)</b>, следовательно дисперсии в выборках равны</p>"
   ]
  },
  {
   "cell_type": "code",
   "execution_count": 66,
   "id": "00563624-5d9b-47a5-a527-83ef2acbadf4",
   "metadata": {},
   "outputs": [],
   "source": [
    "stats, pvalue = ttest_ind(result_table[result_table['group'] == 'control']['metric'],\n",
    "         result_table[result_table['group'] == 'treatment']['metric'],\n",
    "         equal_var=True)"
   ]
  },
  {
   "cell_type": "code",
   "execution_count": 68,
   "id": "bf7db683-e637-4d02-a189-3e3e6fb9bc0e",
   "metadata": {},
   "outputs": [
    {
     "data": {
      "text/plain": [
       "np.float64(-13.28)"
      ]
     },
     "execution_count": 68,
     "metadata": {},
     "output_type": "execute_result"
    }
   ],
   "source": [
    "round(stats, 2)"
   ]
  },
  {
   "cell_type": "code",
   "execution_count": 73,
   "id": "0fed8c39-8e6a-48ae-a4be-a0ddb6836614",
   "metadata": {},
   "outputs": [
    {
     "data": {
      "text/plain": [
       "np.float64(5.77755723798666e-40)"
      ]
     },
     "execution_count": 73,
     "metadata": {},
     "output_type": "execute_result"
    }
   ],
   "source": [
    "pvalue"
   ]
  },
  {
   "cell_type": "markdown",
   "id": "dea6da86-b5bd-424d-8442-608b7aaff5e6",
   "metadata": {},
   "source": [
    "<h3>Результат</h3>\n",
    "<p>значение pvalue сильно больше уровня значимости a=0.05, следовательно мы не можем отклонить нулевую гипотезу</p>\n",
    "<p>Таким образом, <b>внедрение нового алгоритма рекомендаций не повлияло на выбор покупателей</b></p>"
   ]
  }
 ],
 "metadata": {
  "kernelspec": {
   "display_name": "Python 3 (ipykernel)",
   "language": "python",
   "name": "python3"
  },
  "language_info": {
   "codemirror_mode": {
    "name": "ipython",
    "version": 3
   },
   "file_extension": ".py",
   "mimetype": "text/x-python",
   "name": "python",
   "nbconvert_exporter": "python",
   "pygments_lexer": "ipython3",
   "version": "3.13.1"
  }
 },
 "nbformat": 4,
 "nbformat_minor": 5
}
